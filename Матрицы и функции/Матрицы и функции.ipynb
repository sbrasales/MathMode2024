{
 "cells": [
  {
   "cell_type": "markdown",
   "id": "c289dde5",
   "metadata": {},
   "source": [
    "# Матрицы и функции"
   ]
  },
  {
   "cell_type": "markdown",
   "id": "3c2aabc3",
   "metadata": {},
   "source": [
    "# Брасалес Сарасбати нммбд-02-22"
   ]
  },
  {
   "cell_type": "markdown",
   "id": "f4cbc31c",
   "metadata": {},
   "source": [
    "## Задача 1\n",
    "Создайте массив единиц размерностью 2x3x4."
   ]
  },
  {
   "cell_type": "code",
   "execution_count": 1,
   "id": "f579cdaa",
   "metadata": {},
   "outputs": [],
   "source": [
    "import numpy as np "
   ]
  },
  {
   "cell_type": "code",
   "execution_count": 2,
   "id": "d3751047",
   "metadata": {},
   "outputs": [
    {
     "data": {
      "text/plain": [
       "array([[[1., 1., 1., 1.],\n",
       "        [1., 1., 1., 1.],\n",
       "        [1., 1., 1., 1.]],\n",
       "\n",
       "       [[1., 1., 1., 1.],\n",
       "        [1., 1., 1., 1.],\n",
       "        [1., 1., 1., 1.]]])"
      ]
     },
     "execution_count": 2,
     "metadata": {},
     "output_type": "execute_result"
    }
   ],
   "source": [
    "array1 = np.ones((2,3,4))\n",
    "array1"
   ]
  },
  {
   "cell_type": "markdown",
   "id": "3b6d73a8",
   "metadata": {},
   "source": [
    "## Задача 2\n",
    "Создайте массив размерностью 8х8 и заполните его значениями 42."
   ]
  },
  {
   "cell_type": "code",
   "execution_count": 3,
   "id": "1cb576ff",
   "metadata": {},
   "outputs": [
    {
     "data": {
      "text/plain": [
       "array([[42, 42, 42, 42, 42, 42, 42, 42],\n",
       "       [42, 42, 42, 42, 42, 42, 42, 42],\n",
       "       [42, 42, 42, 42, 42, 42, 42, 42],\n",
       "       [42, 42, 42, 42, 42, 42, 42, 42],\n",
       "       [42, 42, 42, 42, 42, 42, 42, 42],\n",
       "       [42, 42, 42, 42, 42, 42, 42, 42],\n",
       "       [42, 42, 42, 42, 42, 42, 42, 42],\n",
       "       [42, 42, 42, 42, 42, 42, 42, 42]])"
      ]
     },
     "execution_count": 3,
     "metadata": {},
     "output_type": "execute_result"
    }
   ],
   "source": [
    "array2 = np.full((8,8),42)\n",
    "array2"
   ]
  },
  {
   "cell_type": "markdown",
   "id": "56761516",
   "metadata": {},
   "source": [
    "## Задача 3\n",
    "Создайте массив случайных значений от 0 до 100 включительно, размерностью 1х8."
   ]
  },
  {
   "cell_type": "code",
   "execution_count": 4,
   "id": "7cb5f5d8",
   "metadata": {},
   "outputs": [
    {
     "data": {
      "text/plain": [
       "array([[66, 64, 63, 38, 47,  8, 25, 34]])"
      ]
     },
     "execution_count": 4,
     "metadata": {},
     "output_type": "execute_result"
    }
   ],
   "source": [
    "array3 = np.random.randint(1,100, size =(1,8))\n",
    "array3"
   ]
  },
  {
   "cell_type": "markdown",
   "id": "d1a3afc5",
   "metadata": {},
   "source": [
    "## Задача 4\n",
    "Создайте массив нулей размерностью 2х3 и выполните его транспонирование."
   ]
  },
  {
   "cell_type": "code",
   "execution_count": 5,
   "id": "92663e35",
   "metadata": {},
   "outputs": [
    {
     "data": {
      "text/plain": [
       "array([[0., 0., 0.],\n",
       "       [0., 0., 0.]])"
      ]
     },
     "execution_count": 5,
     "metadata": {},
     "output_type": "execute_result"
    }
   ],
   "source": [
    "array4 = np.zeros((2,3))\n",
    "array4"
   ]
  },
  {
   "cell_type": "code",
   "execution_count": 6,
   "id": "6b9d50ba",
   "metadata": {},
   "outputs": [
    {
     "data": {
      "text/plain": [
       "array([[0., 0.],\n",
       "       [0., 0.],\n",
       "       [0., 0.]])"
      ]
     },
     "execution_count": 6,
     "metadata": {},
     "output_type": "execute_result"
    }
   ],
   "source": [
    "transposed_array4 = array4.transpose()\n",
    "transposed_array4"
   ]
  },
  {
   "cell_type": "markdown",
   "id": "90d44629",
   "metadata": {},
   "source": [
    "## Задача 5\n",
    "Создайте 2 массива единиц A и B размерностью 2х3 и сложите их."
   ]
  },
  {
   "cell_type": "code",
   "execution_count": 7,
   "id": "e38da4ef",
   "metadata": {},
   "outputs": [
    {
     "data": {
      "text/plain": [
       "array([[2., 2., 2.],\n",
       "       [2., 2., 2.]])"
      ]
     },
     "execution_count": 7,
     "metadata": {},
     "output_type": "execute_result"
    }
   ],
   "source": [
    "A = np.ones((2,3))\n",
    "B = np.ones((2,3))\n",
    "\n",
    "sum1 = A + B\n",
    "sum1"
   ]
  },
  {
   "cell_type": "markdown",
   "id": "d041134c",
   "metadata": {},
   "source": [
    "## Задача 6\n",
    "Напишите функцию умножения трёх матриц (не пользуйтесь встроенными функциями такими как  np.dot(), @)"
   ]
  },
  {
   "cell_type": "code",
   "execution_count": 8,
   "id": "1def05d0",
   "metadata": {},
   "outputs": [],
   "source": [
    "def multiply_matrices2(A, B):\n",
    "    if A.shape[1] != B.shape[0]:\n",
    "        raise ValueError('Incorrect dimention')\n",
    "    \n",
    "    m = A.shape[0]\n",
    "    n = B.shape[1]\n",
    "    p = A.shape[1]\n",
    "    \n",
    "    result = np.zeros((m, n))\n",
    "    \n",
    "    for i in range(m):\n",
    "        for j in range(n):\n",
    "            for k in range(p):\n",
    "                result[i][j] += A[i][k] * B[k][j]\n",
    "    \n",
    "    return result\n",
    "\n",
    "def multiply_matrices3(A, B, C):\n",
    "    \n",
    "    wrk1 = multiply_matrices2(A, B)\n",
    "    result = multiply_matrices2(wrk1, C)\n",
    "    \n",
    "    return result"
   ]
  },
  {
   "cell_type": "code",
   "execution_count": 9,
   "id": "44be851d",
   "metadata": {},
   "outputs": [],
   "source": [
    "def max_min_difference(matrix):\n",
    "    if matrix.size == 0:\n",
    "        raise ValueError('Matrix is empty')\n",
    "\n",
    "    max_val = np.max(matrix)\n",
    "    min_val = np.min(matrix)\n",
    "    difference = max_val - min_val\n",
    "\n",
    "    return difference"
   ]
  },
  {
   "cell_type": "code",
   "execution_count": 10,
   "id": "a6c5b14c",
   "metadata": {},
   "outputs": [
    {
     "name": "stdout",
     "output_type": "stream",
     "text": [
      "[[ 4. 12.]\n",
      " [10. 28.]]\n",
      "Difference between max and min elements of result: 24.0\n"
     ]
    }
   ],
   "source": [
    "A = np.array([[1, 2], [3, 4]])  \n",
    "B = np.array([[2, 0], [1, 2]])  \n",
    "C = np.array([[1, 2], [0, 1]])  \n",
    "\n",
    "result_ABC = multiply_matrices3(A, B, C)\n",
    "difference_ABC = max_min_difference(result_ABC)\n",
    "print(result_ABC)\n",
    "print(\"Difference between max and min elements of result:\", difference_ABC)"
   ]
  },
  {
   "cell_type": "markdown",
   "id": "10bcf52d",
   "metadata": {},
   "source": [
    "## Задача 7\n",
    "Напишите функцию, которая умножает матрицу на транспорированную матрицу (пользуйтесь встроенными функциями такими как np.dot(), @, T) получает обратную матрицу от результата"
   ]
  },
  {
   "cell_type": "code",
   "execution_count": 11,
   "id": "1957f899",
   "metadata": {},
   "outputs": [],
   "source": [
    "def multiply_invert(A):\n",
    "    mult = A @ A.T\n",
    "    result = np.invert(mult)\n",
    "    return result"
   ]
  },
  {
   "cell_type": "code",
   "execution_count": 12,
   "id": "8591510a",
   "metadata": {},
   "outputs": [
    {
     "data": {
      "text/plain": [
       "array([[ -6, -12],\n",
       "       [-12, -26]])"
      ]
     },
     "execution_count": 12,
     "metadata": {},
     "output_type": "execute_result"
    }
   ],
   "source": [
    "matrix = np.array([[1, 2], [3, 4]]) \n",
    "result = multiply_invert(matrix)\n",
    "result"
   ]
  },
  {
   "cell_type": "markdown",
   "id": "b95fa2f1",
   "metadata": {},
   "source": [
    "## Задача 8\n",
    "Напишите и отобразите функцию y = x * x * x/12 + x * (x-15) - 72 на отрезке -10; 10"
   ]
  },
  {
   "cell_type": "code",
   "execution_count": 13,
   "id": "3f388e43",
   "metadata": {},
   "outputs": [
    {
     "data": {
      "image/png": "[encoded data removed]",
      "text/plain": [
       "<Figure size 800x600 with 1 Axes>"
      ]
     },
     "metadata": {},
     "output_type": "display_data"
    }
   ],
   "source": [
    "import matplotlib.pyplot as plt\n",
    "\n",
    "def calculate_y(x):\n",
    "    y = (x**3)/12 + x*(x - 15) - 72\n",
    "    return y\n",
    "\n",
    "x_values = np.linspace(-10, 10, 400) \n",
    "y_values = calculate_y(x_values)\n",
    "\n",
    "plt.figure(figsize=(8, 6))\n",
    "plt.plot(x_values, y_values)\n",
    "plt.show()"
   ]
  },
  {
   "cell_type": "markdown",
   "id": "7f898272",
   "metadata": {},
   "source": [
    "## Задача 9\n",
    "Отобразите ту же функцию на отрезке -10; 10, но с шагом 0.1 по оси x"
   ]
  },
  {
   "cell_type": "code",
   "execution_count": 14,
   "id": "35b18125",
   "metadata": {},
   "outputs": [
    {
     "data": {
      "image/png": "[encoded data removed]",
      "text/plain": [
       "<Figure size 800x600 with 1 Axes>"
      ]
     },
     "metadata": {},
     "output_type": "display_data"
    }
   ],
   "source": [
    "x_values1 = np.arange(-10, 10.1, 0.1)  \n",
    "y_values1 = calculate_y(x_values1)\n",
    "\n",
    "plt.figure(figsize=(8, 6))\n",
    "plt.plot(x_values1, y_values1)\n",
    "plt.show()"
   ]
  },
  {
   "cell_type": "code",
   "execution_count": null,
   "id": "45efa722",
   "metadata": {},
   "outputs": [],
   "source": []
  }
 ],
 "metadata": {
  "kernelspec": {
   "display_name": "Python 3 (ipykernel)",
   "language": "python",
   "name": "python3"
  },
  "language_info": {
   "codemirror_mode": {
    "name": "ipython",
    "version": 3
   },
   "file_extension": ".py",
   "mimetype": "text/x-python",
   "name": "python",
   "nbconvert_exporter": "python",
   "pygments_lexer": "ipython3",
   "version": "3.11.4"
  }
 },
 "nbformat": 4,
 "nbformat_minor": 5
}
