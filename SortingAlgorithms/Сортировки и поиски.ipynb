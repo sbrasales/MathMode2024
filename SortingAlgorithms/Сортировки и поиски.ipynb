{
 "cells": [
  {
   "cell_type": "markdown",
   "id": "48457887",
   "metadata": {},
   "source": [
    "# Сортировки и поиски"
   ]
  },
  {
   "cell_type": "markdown",
   "id": "6790f2ae",
   "metadata": {},
   "source": [
    "## Сарасбати Даниэла Брасалес Вивас  нммбд-03-22"
   ]
  },
  {
   "cell_type": "code",
   "execution_count": 25,
   "id": "1be00ee4",
   "metadata": {},
   "outputs": [],
   "source": [
    "import math"
   ]
  },
  {
   "cell_type": "code",
   "execution_count": 18,
   "id": "13dbe141",
   "metadata": {},
   "outputs": [],
   "source": [
    "def Linear_search(arr, num):\n",
    "    position = -1\n",
    "    for position, element in enumerate(arr):\n",
    "        if element == num:\n",
    "            return position\n",
    "    return position"
   ]
  },
  {
   "cell_type": "code",
   "execution_count": 21,
   "id": "e3699d2f",
   "metadata": {},
   "outputs": [],
   "source": [
    "def Binary_search(arr, num):\n",
    "    low = 0\n",
    "    high = len(lista)-1  \n",
    "    center = (low + high)//2\n",
    "    while low<=high:\n",
    "        if arr[center] == num:\n",
    "            return center\n",
    "        elif arr[center]< num:   \n",
    "            low = center + 1\n",
    "        else:                       \n",
    "            high = center - 1 \n",
    "        center = (low + high)//2\n",
    "    return -1  "
   ]
  },
  {
   "cell_type": "code",
   "execution_count": 26,
   "id": "d70e624d",
   "metadata": {},
   "outputs": [],
   "source": [
    "def Jump_search(arr, num):\n",
    "    n = len(arr)\n",
    "    step = int(math.sqrt(n))\n",
    "    prev = 0\n",
    "    while arr[min(step, n)-1] < num:\n",
    "        prev = step\n",
    "        step += int(math.sqrt(n))\n",
    "        if prev >= n:\n",
    "            return -1\n",
    "    while arr[prev] < num:\n",
    "        prev += 1\n",
    "        if prev == min(step, n):\n",
    "            return -1\n",
    "    if arr[prev] == num:\n",
    "        return prev\n",
    "    return -1"
   ]
  },
  {
   "cell_type": "code",
   "execution_count": 5,
   "id": "c408ba18",
   "metadata": {},
   "outputs": [],
   "source": [
    "def Interpolation_search(arr, num):\n",
    "    low, high = 0, len(arr) - 1\n",
    "    while low <= high and arr[low] <= num <= arr[high]:\n",
    "        pos = low + int(((num - arr[low]) * (high - low)) / (arr[high] - arr[low]))\n",
    "        if arr[pos] == num:\n",
    "            return pos\n",
    "        elif arr[pos] < num:\n",
    "            low = pos + 1\n",
    "        else:\n",
    "            high = pos - 1\n",
    "    return -1"
   ]
  },
  {
   "cell_type": "code",
   "execution_count": 23,
   "id": "5287d16d",
   "metadata": {},
   "outputs": [],
   "source": [
    "def Exponential_search(arr, num):\n",
    "    if arr[0] == num:\n",
    "        return 0\n",
    "    idx = 1\n",
    "    while idx < len(arr) and arr[idx] <= num:\n",
    "        idx *= 2\n",
    "    return Binary_search(arr[:min(idx, len(arr))], num)"
   ]
  },
  {
   "cell_type": "markdown",
   "id": "03e9408e",
   "metadata": {},
   "source": [
    "## Задача 1\n",
    "\n",
    "Проведите анализ скорости работы всех рассмотренных алгоритмов поиска на массиве, состоящем из 100 случайных значений (значения от 1 до 1000). В качестве искомого возьмите элемент, индекс которого будет 5. "
   ]
  },
  {
   "cell_type": "code",
   "execution_count": 13,
   "id": "5f99c910",
   "metadata": {},
   "outputs": [],
   "source": [
    "import random\n",
    "import numpy as np"
   ]
  },
  {
   "cell_type": "code",
   "execution_count": 14,
   "id": "c0a1dbc3",
   "metadata": {},
   "outputs": [],
   "source": [
    "array = np.random.randint(1,1000, 100)\n",
    "array = np.sort(array)"
   ]
  },
  {
   "cell_type": "code",
   "execution_count": 16,
   "id": "4c18e19f",
   "metadata": {},
   "outputs": [],
   "source": [
    "searched_value = 5"
   ]
  },
  {
   "cell_type": "code",
   "execution_count": 15,
   "id": "acdf6a37",
   "metadata": {},
   "outputs": [
    {
     "data": {
      "text/plain": [
       "array([ 21,  21,  25,  50, 111, 135, 141, 144, 146, 155, 157, 170, 173,\n",
       "       182, 192, 211, 217, 229, 230, 234, 242, 264, 266, 268, 272, 277,\n",
       "       304, 314, 314, 317, 326, 330, 336, 337, 340, 340, 348, 379, 389,\n",
       "       391, 400, 409, 413, 424, 441, 441, 445, 455, 461, 468, 472, 473,\n",
       "       485, 501, 506, 508, 518, 524, 530, 569, 617, 629, 701, 710, 711,\n",
       "       730, 747, 755, 768, 773, 779, 779, 782, 782, 803, 816, 823, 838,\n",
       "       857, 859, 859, 860, 861, 895, 901, 907, 908, 925, 931, 935, 938,\n",
       "       939, 944, 945, 958, 983, 983, 985, 994, 997])"
      ]
     },
     "execution_count": 15,
     "metadata": {},
     "output_type": "execute_result"
    }
   ],
   "source": [
    "array"
   ]
  },
  {
   "cell_type": "code",
   "execution_count": 69,
   "id": "0fc1aacf",
   "metadata": {},
   "outputs": [
    {
     "name": "stdout",
     "output_type": "stream",
     "text": [
      "797 ns ± 55 ns per loop (mean ± std. dev. of 7 runs, 1,000,000 loops each)\n",
      "3.6 µs ± 942 ns per loop (mean ± std. dev. of 7 runs, 100,000 loops each)\n",
      "5.51 µs ± 580 ns per loop (mean ± std. dev. of 7 runs, 100,000 loops each)\n",
      "2.27 µs ± 335 ns per loop (mean ± std. dev. of 7 runs, 100,000 loops each)\n",
      "3.77 µs ± 196 ns per loop (mean ± std. dev. of 7 runs, 100,000 loops each)\n"
     ]
    }
   ],
   "source": [
    "linear_time5 = %timeit -o Linear_search(array,searched_value)\n",
    "binary_time5 = %timeit -o Binary_search(array,searched_value)\n",
    "jump_time5 = %timeit -o Jump_search(array,searched_value)\n",
    "interpolation_time5 = %timeit -o Interpolation_search(array,searched_value)\n",
    "exponential_time5 = %timeit -o Exponential_search(array,searched_value)"
   ]
  },
  {
   "cell_type": "markdown",
   "id": "71942461",
   "metadata": {},
   "source": [
    "## Задача 2\n",
    "\n",
    "Проведите анализ скорости работы всех рассмотренных алгоритмов поиска на массиве, состоящем из 100 случайных значений (значения от 1 до 1000). В качестве искомого возьмите элемент, индекс которого будет 95."
   ]
  },
  {
   "cell_type": "code",
   "execution_count": 30,
   "id": "732776f4",
   "metadata": {},
   "outputs": [],
   "source": [
    "searched_value2 = 95"
   ]
  },
  {
   "cell_type": "code",
   "execution_count": 70,
   "id": "330340a3",
   "metadata": {},
   "outputs": [
    {
     "name": "stdout",
     "output_type": "stream",
     "text": [
      "17.6 µs ± 1.44 µs per loop (mean ± std. dev. of 7 runs, 100,000 loops each)\n",
      "3.06 µs ± 87.1 ns per loop (mean ± std. dev. of 7 runs, 100,000 loops each)\n",
      "14.4 µs ± 2.28 µs per loop (mean ± std. dev. of 7 runs, 100,000 loops each)\n",
      "2.04 µs ± 205 ns per loop (mean ± std. dev. of 7 runs, 1,000,000 loops each)\n",
      "5.32 µs ± 880 ns per loop (mean ± std. dev. of 7 runs, 100,000 loops each)\n"
     ]
    }
   ],
   "source": [
    "linear_time95 = %timeit -o Linear_search(array,searched_value2)\n",
    "binary_time95 = %timeit -o Binary_search(array,searched_value2)\n",
    "jump_time95 = %timeit -o Jump_search(array,searched_value2)\n",
    "interpolation_time95 = %timeit -o Interpolation_search(array,searched_value2)\n",
    "exponential_time95 = %timeit -o Exponential_search(array,searched_value2)"
   ]
  },
  {
   "cell_type": "markdown",
   "id": "d8a59cf0",
   "metadata": {},
   "source": [
    "## Задача 3\n",
    "\n",
    "Сделайте выводы по скорости работы алгоритмов поиска в разных условиях из 1 и 2 задач.Постройте 2 графика сравнения этих скоростей."
   ]
  },
  {
   "cell_type": "code",
   "execution_count": 80,
   "id": "1a5cec16",
   "metadata": {},
   "outputs": [
    {
     "data": {
      "image/png": "[encoded data removed]",
      "text/plain": [
       "<Figure size 640x480 with 1 Axes>"
      ]
     },
     "metadata": {},
     "output_type": "display_data"
    }
   ],
   "source": [
    "labels = ['Linear Search', 'Binary Search','Jump Search','Interpolation Search', 'Exponential Search']\n",
    "times_5 = [linear_time5.average, binary_time5.average, jump_time5.average, interpolation_time5.average, exponential_time5.average]\n",
    "times_95 = [linear_time95.average, binary_time95.average, jump_time95.average, interpolation_time95.average, exponential_time95.average]\n",
    "\n",
    "x = np.arange(len(labels))\n",
    "width = 0.35\n",
    "\n",
    "fig, ax = plt.subplots()\n",
    "rects1 = ax.bar(x - width/2, times_5, width, label='Index 5')\n",
    "rects2 = ax.bar(x + width/2, times_95, width, label='Index 95')\n",
    "\n",
    "ax.set_ylabel('Time (s)')\n",
    "ax.set_title('Search Times Comparison')\n",
    "ax.set_xticks(x)\n",
    "ax.set_xticklabels(labels, rotation=45, ha=\"right\")\n",
    "ax.legend()\n",
    "\n",
    "fig.tight_layout()\n",
    "plt.show()"
   ]
  },
  {
   "cell_type": "markdown",
   "id": "31a114c1",
   "metadata": {},
   "source": [
    "Мы можем заметить, что если искомое значение находится в начале массива, то линейный поиск занимает меньше времени, однако если мы ищем значение в конце массива, то как линейный, так и прыжковый поиск занимают гораздо больше времени. Поиск бинарный и интерполяционный остаются примерно на одном уровне."
   ]
  },
  {
   "cell_type": "markdown",
   "id": "0c2bbe9a",
   "metadata": {},
   "source": [
    "## Задача 4\n",
    "\n",
    "Проведите анализ скорости работы всех рассмотренных алгоритмов сортировки на массиве, состоящем из 100 значений (значения массива должны быть последовательными от 1 до 100)."
   ]
  },
  {
   "cell_type": "code",
   "execution_count": 7,
   "id": "de5831a0",
   "metadata": {},
   "outputs": [],
   "source": [
    "def bubble(array):\n",
    "    length=len(array)-1\n",
    "\n",
    "    for i in range(0,length):               \n",
    "        for j in range(0,length):\n",
    "            if array[j]>array[j+1]:\n",
    "                aux=array[j]\n",
    "                array[j]=array[j+1]\n",
    "                array[j+1]=aux\n",
    "    return array"
   ]
  },
  {
   "cell_type": "code",
   "execution_count": 38,
   "id": "cbb8afc4",
   "metadata": {},
   "outputs": [],
   "source": [
    "def insert(array):\n",
    "    lenght=len(array)\n",
    "\n",
    "    for i in range(1,lenght):\n",
    "        i_value= array[i]\n",
    "        i_index= i\n",
    "\n",
    "        while i_index > 0 and array[i_index - 1] > i_value:\n",
    "            array[i_index]=array[i_index - 1]\n",
    "            i_index -= 1\n",
    "        array[i_index] = i_value\n",
    "    return array"
   ]
  },
  {
   "cell_type": "code",
   "execution_count": 39,
   "id": "9703584d",
   "metadata": {},
   "outputs": [],
   "source": [
    "def selection(array):\n",
    "    length=len(array)-1\n",
    "\n",
    "    for i in range(0,length):\n",
    "        min_index = i\n",
    "        min_value = array[min_index]\n",
    "\n",
    "        for j in range(i,length):    \n",
    "\n",
    "            if min_value> array[j+1]:\n",
    "                min_value=array[j+1]\n",
    "                min_index= j+1\n",
    "        if min_index != i:\n",
    "            aux=array[i]\n",
    "            array[i]=array[min_index]\n",
    "            array[min_index]=aux\n",
    "\n",
    "    return array"
   ]
  },
  {
   "cell_type": "code",
   "execution_count": 40,
   "id": "5f55534d",
   "metadata": {},
   "outputs": [],
   "source": [
    "def merge(left, right):\n",
    "    sorted_array = []\n",
    "    i = j = 0\n",
    "\n",
    "    while i < len(left) and j < len(right):\n",
    "        if left[i] < right[j]:\n",
    "            sorted_array.append(left[i])\n",
    "            i += 1\n",
    "        else:\n",
    "            sorted_array.append(right[j])\n",
    "            j += 1\n",
    "\n",
    "    sorted_array.extend(left[i:])\n",
    "    sorted_array.extend(right[j:])\n",
    "    return sorted_array\n",
    "\n",
    "def merge_sort(array):\n",
    "    if len(array) <= 1:\n",
    "        return array\n",
    "\n",
    "    mid = len(array) // 2\n",
    "    left_half = merge_sort(array[:mid])\n",
    "    right_half = merge_sort(array[mid:])\n",
    "\n",
    "    return merge(left_half, right_half)"
   ]
  },
  {
   "cell_type": "code",
   "execution_count": 41,
   "id": "602b19d5",
   "metadata": {},
   "outputs": [],
   "source": [
    "def quick_sort(array):\n",
    "    if len(array) <= 1:\n",
    "        return array\n",
    "\n",
    "    pivot = array[len(array) // 2]\n",
    "    less_than_pivot = [x for x in array if x < pivot]\n",
    "    equal_to_pivot = [x for x in array if x == pivot]\n",
    "    greater_than_pivot = [x for x in array if x > pivot]\n",
    "\n",
    "    return quick_sort(less_than_pivot) + equal_to_pivot + quick_sort(greater_than_pivot)\n"
   ]
  },
  {
   "cell_type": "code",
   "execution_count": 62,
   "id": "8f9782ec",
   "metadata": {},
   "outputs": [],
   "source": [
    "array1 = np.arange(1, 101)"
   ]
  },
  {
   "cell_type": "code",
   "execution_count": 63,
   "id": "6f300fe9",
   "metadata": {},
   "outputs": [
    {
     "name": "stdout",
     "output_type": "stream",
     "text": [
      "2.21 ms ± 208 µs per loop (mean ± std. dev. of 7 runs, 100 loops each)\n",
      "31.1 µs ± 1.22 µs per loop (mean ± std. dev. of 7 runs, 10,000 loops each)\n",
      "821 µs ± 131 µs per loop (mean ± std. dev. of 7 runs, 1,000 loops each)\n",
      "300 µs ± 20.8 µs per loop (mean ± std. dev. of 7 runs, 1,000 loops each)\n",
      "245 µs ± 22.1 µs per loop (mean ± std. dev. of 7 runs, 1,000 loops each)\n"
     ]
    }
   ],
   "source": [
    "bubble_sort_time = %timeit -o bubble(array1.copy())\n",
    "insertion_sort_time = %timeit -o insert(array1.copy())\n",
    "selection_sort_time = %timeit -o selection(array1.copy())\n",
    "merge_sort_time = %timeit -o merge_sort(array1.copy())\n",
    "quick_sort_time = %timeit -o quick_sort(array1.copy())"
   ]
  },
  {
   "cell_type": "markdown",
   "id": "1ecae06f",
   "metadata": {},
   "source": [
    "## Задача 5\n",
    "\n",
    "Проведите анализ скорости работы всех рассмотренных алгоритмов сортировки на массиве, состоящем из 100 значений (значения массива должны иметь обратную последовательность от 100 до 1)."
   ]
  },
  {
   "cell_type": "code",
   "execution_count": 77,
   "id": "51569872",
   "metadata": {},
   "outputs": [],
   "source": [
    "array_reverse = np.arange(100,0, -1)"
   ]
  },
  {
   "cell_type": "code",
   "execution_count": 78,
   "id": "8ad6849e",
   "metadata": {},
   "outputs": [
    {
     "name": "stdout",
     "output_type": "stream",
     "text": [
      "4.55 ms ± 1.09 ms per loop (mean ± std. dev. of 7 runs, 100 loops each)\n",
      "2.1 ms ± 378 µs per loop (mean ± std. dev. of 7 runs, 1,000 loops each)\n",
      "1.28 ms ± 297 µs per loop (mean ± std. dev. of 7 runs, 1,000 loops each)\n",
      "297 µs ± 6.23 µs per loop (mean ± std. dev. of 7 runs, 1,000 loops each)\n",
      "204 µs ± 24.6 µs per loop (mean ± std. dev. of 7 runs, 10,000 loops each)\n"
     ]
    }
   ],
   "source": [
    "bubble_time = %timeit -o bubble(array_reverse.copy())\n",
    "insertion_time = %timeit -o insert(array_reverse.copy())\n",
    "selection_time = %timeit -o selection(array_reverse.copy())\n",
    "merge_sort_time1 = %timeit -o merge_sort(array_reverse.copy())\n",
    "quick_sort_time1 = %timeit -o quick_sort(array_reverse.copy())\n"
   ]
  },
  {
   "cell_type": "markdown",
   "id": "f140221f",
   "metadata": {},
   "source": [
    "## Задача 6\n",
    "\n",
    "Сделайте выводы по скорости работы алгоритмов сортировки в разных условиях из 4 и 5 задач.Постройте 2 графика сравнения этих скоростей."
   ]
  },
  {
   "cell_type": "code",
   "execution_count": 79,
   "id": "639bed4a",
   "metadata": {},
   "outputs": [
    {
     "data": {
      "image/png": "[encoded data removed]",
      "text/plain": [
       "<Figure size 640x480 with 1 Axes>"
      ]
     },
     "metadata": {},
     "output_type": "display_data"
    }
   ],
   "source": [
    "labels = ['Bubble Sort', 'Insertion Sort', 'Selection Sort', 'Merge Sort', 'Quick Sort']\n",
    "succession = [bubble_sort_time.average, insertion_sort_time.average, selection_sort_time.average, merge_sort_time.average, quick_sort_time.average]\n",
    "reverse = [bubble_time.average, insertion_time.average, selection_time.average, merge_sort_time1.average, quick_sort_time1.average]\n",
    "\n",
    "x = np.arange(len(labels))\n",
    "width = 0.35\n",
    "\n",
    "fig, ax = plt.subplots()\n",
    "rects1 = ax.bar(x - width/2, succession, width, label='Succession')\n",
    "rects2 = ax.bar(x + width/2, reverse, width, label='Reverse')\n",
    "\n",
    "ax.set_ylabel('Time (s)')\n",
    "ax.set_title('Comparison of Sorting Times')\n",
    "ax.set_xticks(x)\n",
    "ax.set_xticklabels(labels, rotation=45, ha=\"right\")\n",
    "ax.legend()\n",
    "\n",
    "fig.tight_layout()\n",
    "plt.show()"
   ]
  },
  {
   "cell_type": "markdown",
   "id": "1185538b",
   "metadata": {},
   "source": [
    "Для упорядоченной последовательности предпочтительно использовать сортировку вставками. Сортировка слиянием и быстрая сортировка дают очень похожие результаты."
   ]
  }
 ],
 "metadata": {
  "kernelspec": {
   "display_name": "Python 3 (ipykernel)",
   "language": "python",
   "name": "python3"
  },
  "language_info": {
   "codemirror_mode": {
    "name": "ipython",
    "version": 3
   },
   "file_extension": ".py",
   "mimetype": "text/x-python",
   "name": "python",
   "nbconvert_exporter": "python",
   "pygments_lexer": "ipython3",
   "version": "3.11.4"
  }
 },
 "nbformat": 4,
 "nbformat_minor": 5
}
