{
 "cells": [
  {
   "cell_type": "markdown",
   "metadata": {},
   "source": [
    "# Библиотеки NUMPY и Matplotlib\n",
    "### Брасалес Вивас Сарасбати Даниэла \n",
    "### нммбд-02-21"
   ]
  },
  {
   "cell_type": "markdown",
   "metadata": {},
   "source": [
    "### О задании\n",
    "Это домашнее задание на библиотеки `numpy` и `matplotlib.pyplot`. В данном задании не рекомендуется использовать циклы, по возможности нужно использовать векторизированные операции `numpy`. Сделанное задание в виде файла с расширением .ipynb (jupyter notebook) нужно загрузить в свой гитхаб репозиторий.  \n",
    "\n",
    "Перед выполнением этого домашнего задания полезно прочитать про возможности и основные методы библиотеки numpy:   \n",
    "https://cs.mipt.ru/advanced_python/lessons/lab16.html\n",
    "\n",
    "### Оценивание и штрафы\n",
    "\n",
    "Задание выполняется самостоятельно. «Похожие» решения считаются плагиатом и все задействованные студенты (в том числе те, у кого списали) не могут получить за него больше 0 баллов. Если вы нашли решение какого-то из заданий (или его часть) в открытом источнике, необходимо указать ссылку на этот источник в отдельном блоке в конце вашей работы (скорее всего вы будете не единственным, кто это нашел, поэтому чтобы исключить подозрение в плагиате, необходима ссылка на источник)."
   ]
  },
  {
   "cell_type": "markdown",
   "metadata": {},
   "source": [
    "Сейчас мы находимся в jupyter-ноутбуке (или ipython-ноутбуке). Это удобная среда для написания кода, проведения экспериментов, изучения данных, построения визуализаций и других нужд, не связанных с написаем production-кода. \n",
    "\n",
    "Ноутбук состоит из ячеек, каждая из которых может быть либо ячейкой с кодом, либо ячейкой с текстом размеченным и неразмеченным. Текст поддерживает markdown-разметку и формулы в Latex.\n",
    "\n",
    "Для работы с содержимым ячейки используется *режим редактирования* (*Edit mode*, включается нажатием клавиши **Enter** после выбора ячейки), а для навигации между ячейками искользуется *командный режим* (*Command mode*, включается нажатием клавиши **Esc**). Тип ячейки можно задать в командном режиме либо с помощью горячих клавиш (**y** to code, **m** to markdown, **r** to edit raw text), либо в меню *Cell -> Cell type*. \n",
    "\n",
    "После заполнения ячейки нужно нажать *Shift + Enter*, эта команда обработает содержимое ячейки: проинтерпретирует код или сверстает размеченный текст.\n",
    "\n",
    "### Формат сдачи\n",
    "Для сдачи задания получившийся файл \\*.ipynb с решением необходимо выложить в свой репозиторий github."
   ]
  },
  {
   "cell_type": "markdown",
   "metadata": {},
   "source": [
    "## Exercise 1\n",
    "1. Создайте равномерное разбиение интервала от -1.3 до 2.5 на 64 отрезка.  \n",
    "2. Сгенерировать numpy массив длины $3n$, заполненный циклически числами 1, 2, 3, 1, 2, 3, 1....  \n",
    "3. Создайте массив первых 10 нечетных целых чисел.  \n",
    "4. Создайте массив нулей размера 10 x 10, а затем создайте в нём \"рамку\" из единиц по краям.  \n",
    "5. Создайте массив 8 x 8 с шахматной доской из нулей и единиц.  \n",
    "6. Создайте функцию, которая создает $n×n$ матрицу с $(i,j)$-элементом, равным $i+j$.\n"
   ]
  },
  {
   "cell_type": "code",
   "execution_count": 2,
   "metadata": {},
   "outputs": [],
   "source": [
    "import numpy as np"
   ]
  },
  {
   "cell_type": "markdown",
   "metadata": {},
   "source": [
    "1. Создайте равномерное разбиение интервала от -1.3 до 2.5 на 64 отрезка."
   ]
  },
  {
   "cell_type": "code",
   "execution_count": 3,
   "metadata": {
    "scrolled": true
   },
   "outputs": [
    {
     "data": {
      "text/plain": [
       "array([-1.3       , -1.23968254, -1.17936508, -1.11904762, -1.05873016,\n",
       "       -0.9984127 , -0.93809524, -0.87777778, -0.81746032, -0.75714286,\n",
       "       -0.6968254 , -0.63650794, -0.57619048, -0.51587302, -0.45555556,\n",
       "       -0.3952381 , -0.33492063, -0.27460317, -0.21428571, -0.15396825,\n",
       "       -0.09365079, -0.03333333,  0.02698413,  0.08730159,  0.14761905,\n",
       "        0.20793651,  0.26825397,  0.32857143,  0.38888889,  0.44920635,\n",
       "        0.50952381,  0.56984127,  0.63015873,  0.69047619,  0.75079365,\n",
       "        0.81111111,  0.87142857,  0.93174603,  0.99206349,  1.05238095,\n",
       "        1.11269841,  1.17301587,  1.23333333,  1.29365079,  1.35396825,\n",
       "        1.41428571,  1.47460317,  1.53492063,  1.5952381 ,  1.65555556,\n",
       "        1.71587302,  1.77619048,  1.83650794,  1.8968254 ,  1.95714286,\n",
       "        2.01746032,  2.07777778,  2.13809524,  2.1984127 ,  2.25873016,\n",
       "        2.31904762,  2.37936508,  2.43968254,  2.5       ])"
      ]
     },
     "execution_count": 3,
     "metadata": {},
     "output_type": "execute_result"
    }
   ],
   "source": [
    "np.linspace(-1.3,2.5,64)"
   ]
  },
  {
   "cell_type": "markdown",
   "metadata": {},
   "source": [
    "2. Сгенерировать numpy массив длины  3𝑛, заполненный циклически числами 1, 2, 3, 1, 2, 3, 1...."
   ]
  },
  {
   "cell_type": "code",
   "execution_count": 11,
   "metadata": {},
   "outputs": [],
   "source": [
    "n = 2\n",
    "repeated_array = np.tile([1,2,3], 3*n)"
   ]
  },
  {
   "cell_type": "code",
   "execution_count": 12,
   "metadata": {},
   "outputs": [
    {
     "data": {
      "text/plain": [
       "array([1, 2, 3, 1, 2, 3, 1, 2, 3, 1, 2, 3, 1, 2, 3, 1, 2, 3])"
      ]
     },
     "execution_count": 12,
     "metadata": {},
     "output_type": "execute_result"
    }
   ],
   "source": [
    "repeated_array"
   ]
  },
  {
   "cell_type": "markdown",
   "metadata": {},
   "source": [
    "3. Создайте массив первых 10 нечетных целых чисел"
   ]
  },
  {
   "cell_type": "code",
   "execution_count": 33,
   "metadata": {},
   "outputs": [
    {
     "data": {
      "text/plain": [
       "array([1, 3, 5, 7, 9])"
      ]
     },
     "execution_count": 33,
     "metadata": {},
     "output_type": "execute_result"
    }
   ],
   "source": [
    "odd_numbers = np.array([x for x in range(0,11) if x%2] )\n",
    "odd_numbers"
   ]
  },
  {
   "cell_type": "markdown",
   "metadata": {},
   "source": [
    "4. Создайте массив нулей размера 10 x 10, а затем создайте в нём \"рамку\" из единиц по краям."
   ]
  },
  {
   "cell_type": "code",
   "execution_count": 32,
   "metadata": {},
   "outputs": [
    {
     "data": {
      "text/plain": [
       "array([[1., 1., 1., 1., 1., 1., 1., 1., 1., 1.],\n",
       "       [1., 0., 0., 0., 0., 0., 0., 0., 0., 1.],\n",
       "       [1., 0., 0., 0., 0., 0., 0., 0., 0., 1.],\n",
       "       [1., 0., 0., 0., 0., 0., 0., 0., 0., 1.],\n",
       "       [1., 0., 0., 0., 0., 0., 0., 0., 0., 1.],\n",
       "       [1., 0., 0., 0., 0., 0., 0., 0., 0., 1.],\n",
       "       [1., 0., 0., 0., 0., 0., 0., 0., 0., 1.],\n",
       "       [1., 0., 0., 0., 0., 0., 0., 0., 0., 1.],\n",
       "       [1., 0., 0., 0., 0., 0., 0., 0., 0., 1.],\n",
       "       [1., 1., 1., 1., 1., 1., 1., 1., 1., 1.]])"
      ]
     },
     "execution_count": 32,
     "metadata": {},
     "output_type": "execute_result"
    }
   ],
   "source": [
    "a = np.zeros((10, 10))\n",
    "a[0, :] = 1\n",
    "a[9, :] = 1\n",
    "a[:, 0] = 1\n",
    "a[:, 9] = 1\n",
    "a"
   ]
  },
  {
   "cell_type": "markdown",
   "metadata": {},
   "source": [
    "5. Создайте массив 8 x 8 с шахматной доской из нулей и единиц."
   ]
  },
  {
   "cell_type": "code",
   "execution_count": 39,
   "metadata": {},
   "outputs": [
    {
     "data": {
      "text/plain": [
       "array([[0., 1., 0., 1., 0., 1., 0., 1.],\n",
       "       [1., 0., 1., 0., 1., 0., 1., 0.],\n",
       "       [0., 1., 0., 1., 0., 1., 0., 1.],\n",
       "       [1., 0., 1., 0., 1., 0., 1., 0.],\n",
       "       [0., 1., 0., 1., 0., 1., 0., 1.],\n",
       "       [1., 0., 1., 0., 1., 0., 1., 0.],\n",
       "       [0., 1., 0., 1., 0., 1., 0., 1.],\n",
       "       [1., 0., 1., 0., 1., 0., 1., 0.]])"
      ]
     },
     "execution_count": 39,
     "metadata": {},
     "output_type": "execute_result"
    }
   ],
   "source": [
    "b = np.zeros((8,8))\n",
    "b[1::2, ::2] = 1 \n",
    "b[::2, 1::2] = 1\n",
    "b"
   ]
  },
  {
   "cell_type": "markdown",
   "metadata": {},
   "source": [
    "6. Создайте функцию, которая создает $n×n$ матрицу с $(i,j)$-элементом, равным $i+j$."
   ]
  },
  {
   "cell_type": "markdown",
   "metadata": {},
   "source": [
    "## Exercise 2  \n",
    "1. Создайте график $x^2⋅sin(1/x^2)+x$ на интервале $[−1,1]$, используя 250 точек. Не забудьте пометить оси!\n",
    "2. Создайте semilogy график (с логарифмической шкалой для оси y и линейной шкалой для оси x) относительной разницы  функций $1/(1+x^2)$ и $1/x^2$ на интервале $[5,25]$. (Относительная разница чисел $a$ и $b$ определяется как $|1−a/b|$)\n",
    "3. В Scipy также есть много менее распространенных специальных функций. Взгляните на обширный список <a href=https://docs.scipy.org/doc/scipy/reference/special.html> здесь</a>! Выберите несколько интересных спец функций, которые вы знаете (или, может быть, не знаете), подставьте несколько чисел и начертите их.  \n",
    "4. Создайте цветовой график $sin(x)sin(y)$ на интервале $[−π,π]×[−π,π]$.\n"
   ]
  },
  {
   "cell_type": "code",
   "execution_count": 41,
   "metadata": {},
   "outputs": [],
   "source": [
    "import matplotlib.pyplot as plt"
   ]
  },
  {
   "cell_type": "markdown",
   "metadata": {},
   "source": [
    "1. Создайте график $x^2⋅sin(1/x^2)+x$ на интервале $[−1,1]$, используя 250 точек."
   ]
  },
  {
   "cell_type": "code",
   "execution_count": 45,
   "metadata": {},
   "outputs": [
    {
     "data": {
      "text/plain": [
       "[<matplotlib.lines.Line2D at 0x1cb94f44a90>]"
      ]
     },
     "execution_count": 45,
     "metadata": {},
     "output_type": "execute_result"
    },
    {
     "data": {
      "image/png": "[encoded data removed]",
      "text/plain": [
       "<Figure size 640x480 with 1 Axes>"
      ]
     },
     "metadata": {},
     "output_type": "display_data"
    }
   ],
   "source": [
    "x = np.linspace(-1,1,250)\n",
    "y = ((x**2)*np.sin(1/(x**2)) + x)\n",
    "plt.grid()\n",
    "plt.xlabel(u'Ось x')\n",
    "plt.ylabel(u'Ось y')\n",
    "plt.plot(x, y)"
   ]
  },
  {
   "cell_type": "markdown",
   "metadata": {},
   "source": [
    "2. Создайте semilogy график (с логарифмической шкалой для оси y и линейной шкалой для оси x) относительной разницы  функций $1/(1+x^2)$ и $1/x^2$ на интервале $[5,25]$. (Относительная разница чисел $a$ и $b$ определяется как $|1−a/b|$)"
   ]
  },
  {
   "cell_type": "code",
   "execution_count": 63,
   "metadata": {},
   "outputs": [
    {
     "data": {
      "image/png": "[encoded data removed]",
      "text/plain": [
       "<Figure size 640x480 with 1 Axes>"
      ]
     },
     "metadata": {},
     "output_type": "display_data"
    }
   ],
   "source": [
    "x = np.linspace(5,25,100)\n",
    "y_1 = 1/(1+x**2)\n",
    "y_2 = 1/x**2\n",
    "difference = np.abs(1-(y_1/y_2)) \n",
    "plt.yscale('log')\n",
    "plt.xlabel('Values in x')\n",
    "plt.ylabel('Logarithmic scale')\n",
    "plt.plot(x,difference, 'b')\n",
    "plt.show()\n"
   ]
  },
  {
   "cell_type": "markdown",
   "metadata": {},
   "source": [
    "3. В Scipy также есть много менее распространенных специальных функций. Взгляните на обширный список <a href=https://docs.scipy.org/doc/scipy/reference/special.html> здесь</a>! Выберите несколько интересных спец функций, которые вы знаете (или, может быть, не знаете), подставьте несколько чисел и начертите их."
   ]
  },
  {
   "cell_type": "code",
   "execution_count": 64,
   "metadata": {},
   "outputs": [],
   "source": [
    "import scipy.special as s"
   ]
  },
  {
   "cell_type": "code",
   "execution_count": 65,
   "metadata": {},
   "outputs": [
    {
     "data": {
      "image/png": "[encoded data removed]",
      "text/plain": [
       "<Figure size 640x480 with 1 Axes>"
      ]
     },
     "metadata": {},
     "output_type": "display_data"
    }
   ],
   "source": [
    "x = np.linspace(0, 20, 100)\n",
    "j0 = s.jn(0, x)\n",
    "j1 = s.jn(1, x)\n",
    "\n",
    "plt.plot(x, j0, '--', label='$J_0(x)$')\n",
    "plt.plot(x, j1, 'g.', label='$J_1(x)$')\n",
    "\n",
    "plt.title('Bessel Function 1st Kind')\n",
    "plt.legend()\n",
    "plt.show()\n"
   ]
  },
  {
   "cell_type": "markdown",
   "metadata": {},
   "source": [
    "4. Создайте цветовой график $sin(x)sin(y)$ на интервале $[−π,π]×[−π,π]$."
   ]
  },
  {
   "cell_type": "code",
   "execution_count": 92,
   "metadata": {},
   "outputs": [
    {
     "data": {
      "image/png": "[encoded data removed]",
      "text/plain": [
       "<Figure size 640x480 with 2 Axes>"
      ]
     },
     "metadata": {},
     "output_type": "display_data"
    }
   ],
   "source": [
    "x = np.linspace(-np.pi, np.pi, 100)\n",
    "y = np.linspace(-np.pi, np.pi, 100)\n",
    "\n",
    "X, Y = np.meshgrid(x, y)\n",
    "Z = np.sin(X) * np.sin(Y)\n",
    "plt.imshow(Z, extent=[-np.pi, np.pi, -np.pi, np.pi], cmap='viridis')\n",
    "plt.colorbar(label='sin(x) * sin(y)')\n",
    "plt.xlabel('x')\n",
    "plt.ylabel('y')\n",
    "plt.title('sin(x) * sin(y)')\n",
    "plt.show()\n"
   ]
  },
  {
   "cell_type": "markdown",
   "metadata": {},
   "source": [
    "## Exercise 3  \n",
    "1. Вычислите $cos(x)$ и $sin(x)$ на интервале [0,1] с шагом $0.05$, а затем объедините оба массива чисел как строки в один массив.  \n",
    "2. Создайте случайный массив $3 × 5$ с помощью функции `np.random.rand(3, 5)` и вычислите: сумму всех элементов, сумму строк и сумму столбцов. (Подобно тому, как sorted имеет необязательный аргумент key=, многие функции Numpy имеют необязательный аргумент `axis=`)  \n",
    "3. Создайте случайный массив $5×5$, используя функцию `np.random.rand(5, 5)`. Отсортируйте строки по второму столбцу. Используйте для этого slicing + argsort + indexing.  \n",
    "4. Посчитайте две матрицы: $B = A^TA$ и $C = AA^T$. Что вы можете о них сказать? Какого они размера? В чём их сходство и отличие? Найдите сумму диагональных элементов матриц $B$ и $C$. Посчитайте детерминант и ранг матриц $A$, $B$ и $C$, посмотрите на спектр (набор собственных значений) матриц $B$ и $C$, какие выводы вы можете сделать? (подсказка: используйте готовые функции из библиотеки `np.linalg`).  \n"
   ]
  },
  {
   "cell_type": "markdown",
   "metadata": {},
   "source": [
    "1. Вычислите $cos(x)$ и $sin(x)$ на интервале [0,1] с шагом $0.05$, а затем объедините оба массива чисел как строки в один массив."
   ]
  },
  {
   "cell_type": "code",
   "execution_count": 67,
   "metadata": {},
   "outputs": [
    {
     "data": {
      "text/plain": [
       "array([['1.0', '0.0'],\n",
       "       ['0.9987502603949663', '0.04997916927067833'],\n",
       "       ['0.9950041652780258', '0.09983341664682815'],\n",
       "       ['0.9887710779360422', '0.14943813247359924'],\n",
       "       ['0.9800665778412416', '0.19866933079506122'],\n",
       "       ['0.9689124217106447', '0.24740395925452294'],\n",
       "       ['0.955336489125606', '0.2955202066613396'],\n",
       "       ['0.9393727128473789', '0.3428978074554514'],\n",
       "       ['0.9210609940028851', '0.3894183423086505'],\n",
       "       ['0.9004471023526769', '0.43496553411123023'],\n",
       "       ['0.8775825618903728', '0.479425538604203'],\n",
       "       ['0.8525245220595057', '0.5226872289306592'],\n",
       "       ['0.8253356149096782', '0.5646424733950355'],\n",
       "       ['0.7960837985490559', '0.6051864057360395'],\n",
       "       ['0.7648421872844884', '0.6442176872376911'],\n",
       "       ['0.7316888688738209', '0.6816387600233341'],\n",
       "       ['0.6967067093471654', '0.7173560908995228'],\n",
       "       ['0.6599831458849821', '0.7512804051402927'],\n",
       "       ['0.6216099682706644', '0.7833269096274834'],\n",
       "       ['0.5816830894638835', '0.8134155047893737'],\n",
       "       ['0.5403023058681398', '0.8414709848078965']], dtype='<U32')"
      ]
     },
     "execution_count": 67,
     "metadata": {},
     "output_type": "execute_result"
    }
   ],
   "source": [
    "x = np.arange(0, 1.05, 0.05)\n",
    "cos_x = np.cos(x)\n",
    "sin_x = np.sin(x)\n",
    "\n",
    "cos_str = np.array(cos_x, dtype=str)\n",
    "sin_str = np.array(sin_x, dtype=str)\n",
    "resultado = np.column_stack((cos_str, sin_str))\n",
    "resultado"
   ]
  },
  {
   "cell_type": "markdown",
   "metadata": {},
   "source": [
    "2. Создайте случайный массив $3 × 5$ с помощью функции `np.random.rand(3, 5)` и вычислите: сумму всех элементов, сумму строк и сумму столбцов. (Подобно тому, как sorted имеет необязательный аргумент key=, многие функции Numpy имеют необязательный аргумент `axis=`)"
   ]
  },
  {
   "cell_type": "code",
   "execution_count": 74,
   "metadata": {},
   "outputs": [
    {
     "data": {
      "text/plain": [
       "array([[0.82926599, 0.7430466 , 0.83418889, 0.18397153, 0.15858576],\n",
       "       [0.86053785, 0.88989457, 0.18715912, 0.89997951, 0.23928544],\n",
       "       [0.08925876, 0.62647406, 0.01297458, 0.40794507, 0.89679561]])"
      ]
     },
     "execution_count": 74,
     "metadata": {},
     "output_type": "execute_result"
    }
   ],
   "source": [
    "random=np.random.rand(3,5)\n",
    "random"
   ]
  },
  {
   "cell_type": "code",
   "execution_count": 77,
   "metadata": {},
   "outputs": [
    {
     "name": "stdout",
     "output_type": "stream",
     "text": [
      "сумма всех элементов: 7.8593633397575955, сумма строк: [2.74905877 3.07685649 2.03344807] и сумма столбцов: [1.7790626  2.25941524 1.03432258 1.49189611 1.29466681] \n"
     ]
    }
   ],
   "source": [
    "total_sum = np.sum(random)\n",
    "row_sum = np.sum(random, axis=1)\n",
    "column_sum = np.sum(random, axis=0)\n",
    "print(f'сумма всех элементов: {total_sum}, сумма строк: {row_sum} и сумма столбцов: {column_sum} ')"
   ]
  },
  {
   "cell_type": "markdown",
   "metadata": {},
   "source": [
    "3. Создайте случайный массив $5×5$, используя функцию `np.random.rand(5, 5)`. Отсортируйте строки по второму столбцу. Используйте для этого slicing + argsort + indexing. "
   ]
  },
  {
   "cell_type": "code",
   "execution_count": 79,
   "metadata": {},
   "outputs": [
    {
     "data": {
      "text/plain": [
       "array([[0.75964121, 0.78277509, 0.53971781, 0.03175788, 0.49095267],\n",
       "       [0.81184425, 0.14246782, 0.30903792, 0.23234669, 0.62549029],\n",
       "       [0.45975339, 0.98756221, 0.59652847, 0.50059053, 0.1793764 ],\n",
       "       [0.59400654, 0.40327304, 0.65498692, 0.68144653, 0.47563368],\n",
       "       [0.66740273, 0.35585961, 0.78250022, 0.29850211, 0.11413104]])"
      ]
     },
     "execution_count": 79,
     "metadata": {},
     "output_type": "execute_result"
    }
   ],
   "source": [
    "random_array = np.random.rand(5, 5)\n",
    "random_array"
   ]
  },
  {
   "cell_type": "code",
   "execution_count": 81,
   "metadata": {},
   "outputs": [
    {
     "data": {
      "text/plain": [
       "array([[0.81184425, 0.14246782, 0.30903792, 0.23234669, 0.62549029],\n",
       "       [0.66740273, 0.35585961, 0.78250022, 0.29850211, 0.11413104],\n",
       "       [0.59400654, 0.40327304, 0.65498692, 0.68144653, 0.47563368],\n",
       "       [0.75964121, 0.78277509, 0.53971781, 0.03175788, 0.49095267],\n",
       "       [0.45975339, 0.98756221, 0.59652847, 0.50059053, 0.1793764 ]])"
      ]
     },
     "execution_count": 81,
     "metadata": {},
     "output_type": "execute_result"
    }
   ],
   "source": [
    "ordered_indexes= np.argsort(random_array[:, 1])\n",
    "ordered_array = random_array[ordered_indexes]\n",
    "ordered_array"
   ]
  },
  {
   "cell_type": "markdown",
   "metadata": {},
   "source": [
    "4. Посчитайте две матрицы: $B = A^TA$ и $C = AA^T$. Что вы можете о них сказать? Какого они размера? В чём их сходство и отличие? Найдите сумму диагональных элементов матриц $B$ и $C$. Посчитайте детерминант и ранг матриц $A$, $B$ и $C$, посмотрите на спектр (набор собственных значений) матриц $B$ и $C$, какие выводы вы можете сделать? (подсказка: используйте готовые функции из библиотеки `np.linalg`)."
   ]
  },
  {
   "cell_type": "code",
   "execution_count": 86,
   "metadata": {},
   "outputs": [
    {
     "data": {
      "text/plain": [
       "array([[12, 13, 16],\n",
       "       [15,  3, 16],\n",
       "       [ 4,  8, 10]])"
      ]
     },
     "execution_count": 86,
     "metadata": {},
     "output_type": "execute_result"
    }
   ],
   "source": [
    "A = np.random.randint(1, 20, size=(3, 3))\n",
    "A"
   ]
  },
  {
   "cell_type": "code",
   "execution_count": 88,
   "metadata": {},
   "outputs": [
    {
     "data": {
      "text/plain": [
       "array([[385, 233, 472],\n",
       "       [233, 242, 336],\n",
       "       [472, 336, 612]])"
      ]
     },
     "execution_count": 88,
     "metadata": {},
     "output_type": "execute_result"
    }
   ],
   "source": [
    "B = np.dot(A.T, A)\n",
    "B"
   ]
  },
  {
   "cell_type": "code",
   "execution_count": 90,
   "metadata": {},
   "outputs": [
    {
     "data": {
      "text/plain": [
       "array([[569, 475, 312],\n",
       "       [475, 490, 244],\n",
       "       [312, 244, 180]])"
      ]
     },
     "execution_count": 90,
     "metadata": {},
     "output_type": "execute_result"
    }
   ],
   "source": [
    "C = np.dot(A, A.T)\n",
    "C"
   ]
  },
  {
   "cell_type": "code",
   "execution_count": 91,
   "metadata": {},
   "outputs": [
    {
     "name": "stdout",
     "output_type": "stream",
     "text": [
      "Размер: A=(3, 3), B=(3, 3), C= (3, 3)\n",
      "Сумма диагональных элементов: B=1239, C=1239\n",
      "Детерминант: A=-566.0000000000001, B=320356.0000000007, C=320356.0000000012\n",
      "Ранг: A=3, B=3, C=3\n",
      "Собственные значения: B=[1164.59662349    3.90173821   70.50163831], C=[1164.59662349    3.90173821   70.50163831]\n"
     ]
    }
   ],
   "source": [
    "size_A = A.shape\n",
    "size_B = B.shape\n",
    "size_C = C.shape\n",
    "\n",
    "diagonal_sum_B = np.trace(B)\n",
    "diagonal_sum_C = np.trace(C)\n",
    "\n",
    "determinant_A = np.linalg.det(A)\n",
    "determinant_B = np.linalg.det(B)\n",
    "determinant_C = np.linalg.det(C)\n",
    "\n",
    "range_A = np.linalg.matrix_rank(A)\n",
    "range_B = np.linalg.matrix_rank(B)\n",
    "range_C = np.linalg.matrix_rank(C)\n",
    "\n",
    "eigenvalues_B = np.linalg.eigvals(B)\n",
    "eigenvalues_C = np.linalg.eigvals(C)\n",
    "\n",
    "print(f'Размер: A={size_A}, B={size_B}, C= {size_C}')\n",
    "print(f'Сумма диагональных элементов: B={diagonal_sum_B}, C={diagonal_sum_C}')\n",
    "print(f'Детерминант: A={determinant_A}, B={determinant_B}, C={determinant_C}')\n",
    "print(f'Ранг: A={range_A}, B={range_B}, C={range_C}')\n",
    "print(f'Собственные значения: B={eigenvalues_B}, C={eigenvalues_C}')"
   ]
  },
  {
   "cell_type": "markdown",
   "metadata": {},
   "source": [
    "## Exercise 4    \n",
    "\n",
    "Численно посчитать определённый интеграл  3-мя методами:  \n",
    "a)\tПрямоугольников $\\int\\limits_a^b {f(x)dx \\approx \\Delta x\\sum\\limits_{k = 0}^N {f({x_k})} }$  \n",
    "b)\tТрапеций $\\int\\limits_a^b {f(x)dx \\approx \\frac{{\\Delta x}}{2}\\left( {f({x_0}) + 2\\sum\\limits_{k = 1}^{N - 1} {f({x_k})}  + f({x_N})} \\right)}$  \n",
    "c)\tПо правилу Симпсона  $\\int\\limits_a^b {f(x)dx \\approx \\frac{{\\Delta x}}{3}\\left( {f({x_0}) + 2\\sum\\limits_{k = 1}^{N/2 - 1} {f({x_{2k}})}  + 4\\sum\\limits_{k = 1}^{N/2} {f({x_{2k - 1}})}  + f({x_N})} \\right)}$  \n",
    "\n",
    "\n",
    "1. В реализации этих методов цикл `for` для суммирования использовать нельзя.  \n",
    "2. Нужно посчитать значение интеграла с некоторым шагом интегрирования (например начать с 0.1), потом уменьшить его в десять раз и ещё раз посчитать и так до тех пор пока отличие в ответах будет в 5-м знаке после запятой, т.е. чтобы ошибка была меньше 1e-5. Получить ответы для 3-х разных методов и сделать соответствующие выводы.  \n",
    "3. Необходимо сравнить полученные оценки с аналитическим решением (т.е. формульным, которое вы должны сами посчитать на листочке и вбить формулу-ответ в `Markdown` ячейку).   \n",
    "4. В качестве интеграла взять один из следующих с номером, сгенерированным случайным образом с помощью функции np.random.randint(10), в качестве seed для генератора случайных чисел взять номер своего студенческого билета.\n",
    "\n",
    "<table width=\"80%\"\n",
    "       align=\"center\">\n",
    "    <tr>\n",
    "        <td> 0) $\\int\\limits_3^4 {\\frac{{{x^2} + 3}}{{x - 2}}dx}$ </td>\n",
    "        <td> 1) $\\int\\limits_{ - 2}^{ - 1} {\\frac{{x + 1}}{{{x^3} - {x^2}}}dx}$ </td>\n",
    "        <td> 2) $\\int\\limits_1^2 {\\frac{{{e^{1/{x^2}}}}}{{{x^3}}}dx}$ </td>\n",
    "        <td> 3) $\\int\\limits_1^e {\\frac{{\\cos (\\ln x)}}{x}dx}$ </td>\n",
    "        <td> 4) $\\int\\limits_1^e {\\frac{{dx}}{{x(1 + {{\\ln }^2}x)}}}$ </td>\n",
    "    </tr>                \n",
    "    <tr>\n",
    "        <td> 5) $\\int\\limits_0^{\\pi /2} {{{\\cos }^3}\\alpha \\;d\\alpha }$ </td>\n",
    "        <td> 6) $\\int\\limits_0^{1/3} {c{h^2}3x\\;dx}$ </td>\n",
    "        <td> 7) $\\int\\limits_2^3 {\\frac{{dy}}{{{y^2} - 2y - 8}}dy}$ </td>\n",
    "        <td> 8) $\\int\\limits_{3/4}^2 {\\frac{{dx}}{{\\sqrt {2 + 3x - 2{x^2}} }}}$ </td>\n",
    "        <td> 9) $\\int\\limits_0^2 {\\frac{{2x - 1}}{{2x + 1}}dx}$ </td>\n",
    "        </tr>\n",
    "</table>"
   ]
  },
  {
   "cell_type": "code",
   "execution_count": 108,
   "metadata": {},
   "outputs": [
    {
     "data": {
      "text/plain": [
       "7"
      ]
     },
     "execution_count": 108,
     "metadata": {},
     "output_type": "execute_result"
    }
   ],
   "source": [
    "np.random.seed(1132215276)\n",
    "integral_number = np.random.randint(10)\n",
    "integral_number"
   ]
  },
  {
   "cell_type": "markdown",
   "metadata": {},
   "source": [
    "\\begin{align*}\n",
    "\\int_{2}^{3} \\frac{dy}{y^2 - 2y - 8} &= \\int_{2}^{3} \\left( -\\frac{1}{6(y+2)} + \\frac{1}{6(y-4)} \\right) dy \\\\\n",
    "&= -\\frac{1}{6} \\ln(|y+2|) + \\frac{1}{6} \\ln(|y-4|) \\Bigg|_{2}^{3} \\\\\n",
    "&= -\\frac{1}{6} \\ln(|3+2|) + \\frac{1}{6} \\ln(|3-4|) - \\left( -\\frac{1}{6} \\ln(|2+2|) + \\frac{1}{6} \\ln(|2-4|) \\right) \\\\\n",
    "&= -\\frac{1}{6} \\ln(5) + \\frac{1}{6} \\ln(1) - \\left( -\\frac{1}{6} \\ln(4) + \\frac{1}{6} \\ln(2) \\right) \\\\\n",
    "&= -\\frac{1}{6} \\ln(5) + \\frac{1}{6} \\cdot 0 - \\left( -\\frac{1}{6} \\ln(4) + \\frac{1}{6} \\ln(2) \\right) \\\\\n",
    "&= -\\frac{1}{6} \\ln(5) - \\left( -\\frac{2}{6} \\ln(2) + \\frac{1}{6} \\ln(2) \\right) \\\\\n",
    "&= -\\frac{1}{6} \\ln(5) + \\frac{1}{6} \\ln(2) \\\\\n",
    "&= \\frac{1}{6} \\ln(\\frac{2}{5}) \\\\\n",
    "&~\\approx~ -0,152715\n",
    "\\end{align*}\n"
   ]
  },
  {
   "cell_type": "code",
   "execution_count": 128,
   "metadata": {},
   "outputs": [],
   "source": [
    "a = 2\n",
    "b = 3\n",
    "step = 0.1\n",
    "error = 1e-5\n",
    "solucion_analitica: -0.1527152\n",
    "def f(x):\n",
    "    return 1 / (x**2 - 2*x - 8)"
   ]
  },
  {
   "cell_type": "code",
   "execution_count": 129,
   "metadata": {},
   "outputs": [],
   "source": [
    "while True:\n",
    "    \n",
    "    # Прямоугольников\n",
    "    x = np.arange(a, b, paso)\n",
    "    sum_rectangles = np.sum(f(x))\n",
    "    integral_rectangles = step * sum_rectangles\n",
    "    \n",
    "    # Трапеций\n",
    "    sum_trapezoids = (f(a) + f(b)) / 2\n",
    "    sum_trapezoids += np.sum(f(x[1:-1]))\n",
    "    integral_trapezoids = step * sum_trapezoids\n",
    "    \n",
    "    # По правилу Симпсона\n",
    "    x_even = np.arange(a + step, b, 2 * step)\n",
    "    x_odd = np.arange(a + 2 * step, b - step, 2 * step)\n",
    "    sum_simpson_even = 2 * np.sum(f(x_even))\n",
    "    sum_simpson_odd = 4 * np.sum(f(x_odd))\n",
    "    sum_simpson = f(a) + f(b) + sum_simpson_even + sum_simpson_odd\n",
    "    integral_simpson = step / 3 * sum_simpson\n",
    "    \n",
    "    if np.abs(integral_rectangles - integral_trapezoids) < error and \\\n",
    "       np.abs(integral_trapezoids - integral_simpson) < error:\n",
    "        break\n",
    "\n",
    "    step /= 10\n"
   ]
  },
  {
   "cell_type": "code",
   "execution_count": 130,
   "metadata": {},
   "outputs": [
    {
     "name": "stdout",
     "output_type": "stream",
     "text": [
      "Прямоугольников: -0.15271511815164085\n",
      "Трапеций: -0.15271510190164211\n",
      "По правилу Симпсона: -0.15271511117330092\n"
     ]
    }
   ],
   "source": [
    "print(\"Прямоугольников:\", integral_rectangles)\n",
    "print(\"Трапеций:\", integral_trapezoids)\n",
    "print(\"По правилу Симпсона:\", integral_simpson)"
   ]
  },
  {
   "cell_type": "code",
   "execution_count": null,
   "metadata": {},
   "outputs": [],
   "source": []
  }
 ],
 "metadata": {
  "kernelspec": {
   "display_name": "Python 3 (ipykernel)",
   "language": "python",
   "name": "python3"
  },
  "language_info": {
   "codemirror_mode": {
    "name": "ipython",
    "version": 3
   },
   "file_extension": ".py",
   "mimetype": "text/x-python",
   "name": "python",
   "nbconvert_exporter": "python",
   "pygments_lexer": "ipython3",
   "version": "3.11.4"
  }
 },
 "nbformat": 4,
 "nbformat_minor": 2
}
